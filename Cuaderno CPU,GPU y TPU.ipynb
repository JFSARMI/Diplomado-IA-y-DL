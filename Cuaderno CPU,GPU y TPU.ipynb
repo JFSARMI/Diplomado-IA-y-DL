{
 "cells": [
  {
   "cell_type": "markdown",
   "metadata": {},
   "source": [
    "# Aprendiendo a diferenciar entre APU, CPU, GPU e iGPU\n",
    "**APU, CPU, GPU e iGPU** son cuatro términos que utilizamos prácticamente día a día en el mundo del **hardware**, y que para los que no son muy duchos en la materia pueden resultar confusos. Por este motivo, en este artículo vamos a a explicaros qué es cada uno de ellos, y por supuesto cuáles son sus diferencias.\n",
    "Realmente, en este mundo del hardware nos vemos obligados a utilizar muchos acrónimos, siglas y anglicismos para facilitar la comunicación, pero en muchas ocasiones son tantos que pueden llevar a confusión. De entre estos términos, sin duda APU, CPU, GPU e iGPU son los que más se utilizan (además de RAM, por supuesto), así que para evitar confusiones vamos a explicar qué es cada uno de ellos y en qué se diferencian."
   ]
  },
  {
   "cell_type": "code",
   "execution_count": 3,
   "metadata": {},
   "outputs": [
    {
     "data": {
      "text/html": [
       "<img src=\"https://hardzone.es/app/uploads-hardzone.es/2020/05/AMD-Ryzen-4000-930x487.jpg\"/>"
      ],
      "text/plain": [
       "<IPython.core.display.Image object>"
      ]
     },
     "execution_count": 3,
     "metadata": {},
     "output_type": "execute_result"
    }
   ],
   "source": [
    "from IPython.display import Image\n",
    "from IPython.core.display import HTML \n",
    "Image(url= \"https://hardzone.es/app/uploads-hardzone.es/2020/05/AMD-Ryzen-4000-930x487.jpg\")"
   ]
  },
  {
   "cell_type": "markdown",
   "metadata": {},
   "source": [
    "**APU, CPU, GPU e iGPU, ¿qué significan?**\n",
    "Es de rigor empezar por el principio, ya que estos cuatro términos no son sino acrónimos o siglas que vienen del inglés, pero cada uno de ellos se refiere a un componente de hardware distinto y en concreto.\n",
    "\n",
    "**APU**: Accelerated Processing Unit, o unidad de proceso acelerado.\n",
    "\n",
    "**CPU**: Central Processing Unit, o unidad de proceso central.\n",
    "\n",
    "**GPU**: Graphics Processing Unit, o unidad de proceso de gráficos.\n",
    "\n",
    "**iGPU**: Integrated Graphics Processing Unit, o unidad de proceso de gráficos integrada."
   ]
  },
  {
   "cell_type": "code",
   "execution_count": 6,
   "metadata": {},
   "outputs": [
    {
     "data": {
      "text/html": [
       "<img src=\"https://hardzone.es/app/uploads-hardzone.es/2019/09/AMD-APU.jpg\"/>"
      ],
      "text/plain": [
       "<IPython.core.display.Image object>"
      ]
     },
     "execution_count": 6,
     "metadata": {},
     "output_type": "execute_result"
    }
   ],
   "source": [
    "from IPython.display import Image\n",
    "from IPython.core.display import HTML \n",
    "Image(url= \"https://hardzone.es/app/uploads-hardzone.es/2019/09/AMD-APU.jpg\")"
   ]
  },
  {
   "cell_type": "markdown",
   "metadata": {},
   "source": [
    "Muchos de vosotros diréis: una CPU con iGPU es una APU, y tenéis parte de razón pero no del todo, así que vamos a explicarlo con detalle a continuación, pero de la manera más sencilla posible para que sea entendible"
   ]
  },
  {
   "cell_type": "markdown",
   "metadata": {},
   "source": [
    "# ¿Cuáles son las diferencias y por qué se llaman así?\n",
    "Comencemos por lo básico, la CP**U. La CPU es el procesador** de un PC, el «cerebro» encargado de realizar todas las operaciones y que controla todo lo que ocurre en el sistema.\n",
    "\n",
    "Por otro lado tenemos la **GPU**, que es el «procesador» que incorporan las **tarjetas gráficas dedicadas** y que a diferencia de las CPU, su conjunto de instrucciones y componentes internos están **optimizados para gráficos**. Aunque una CPU puede realizar la mayoría de operaciones (no todas) de una GPU y viceversa, como no están optimizados para ello el rendimiento es sustancialmente más bajo, motivo por el que son dos componentes separados."
   ]
  },
  {
   "cell_type": "code",
   "execution_count": 8,
   "metadata": {},
   "outputs": [
    {
     "data": {
      "text/html": [
       "<img src=\"https://hardzone.es/app/uploads-hardzone.es/2020/04/CPU-vs-GPU.jpg\"/>"
      ],
      "text/plain": [
       "<IPython.core.display.Image object>"
      ]
     },
     "execution_count": 8,
     "metadata": {},
     "output_type": "execute_result"
    }
   ],
   "source": [
    "from IPython.display import Image\n",
    "from IPython.core.display import HTML \n",
    "Image(url= \"https://hardzone.es/app/uploads-hardzone.es/2020/04/CPU-vs-GPU.jpg\")"
   ]
  },
  {
   "cell_type": "markdown",
   "metadata": {},
   "source": [
    "En otras palabras, el procesador está dedicado a las operaciones generales que necesita realizar un PC, mientras que la GPU está dedicada íntegramente a cálculos relacionados con los gráficos que vemos en pantalla, como generación de escenarios, polígonos, etc. Para realizar estos cálculos, incorporan hardware diferente en su interior, y su conjunto de instrucciones es también distinto.\n",
    "\n",
    "Algunas CPU pueden incorporar un procesador gráfico en el mismo die, llamado **iGPU**, que no es sino una **GPU integrada** pero que funciona de manera independiente. De esta manera, se consigue que sin necesidad de una tarjeta gráfica dedicada podamos visualizar el contenido en un monitor, aunque en estos casos el rendimiento es bastante bajo debido a las limitaciones físicas que tienen."
   ]
  },
  {
   "cell_type": "code",
   "execution_count": 10,
   "metadata": {},
   "outputs": [
    {
     "data": {
      "text/html": [
       "<img src=\"https://hardzone.es/app/uploads-hardzone.es/2019/01/Intel-iGPU.jpg\"/>"
      ],
      "text/plain": [
       "<IPython.core.display.Image object>"
      ]
     },
     "execution_count": 10,
     "metadata": {},
     "output_type": "execute_result"
    }
   ],
   "source": [
    "from IPython.display import Image\n",
    "from IPython.core.display import HTML \n",
    "Image(url= \"https://hardzone.es/app/uploads-hardzone.es/2019/01/Intel-iGPU.jpg\")"
   ]
  },
  {
   "cell_type": "markdown",
   "metadata": {},
   "source": [
    "Como una variante de las CPU con iGPU, en 2011 AMD lanzó el concepto de APU, que se diferencia de éstas en que el hardware para gráficos que integra no solo es bastante más potente (de hecho, AMD las vende como dispositivos para jugar), sino que tienen una diferencia fundamental, la **arquitectura HSA** (heterogénea).\n",
    "\n",
    "Así, la diferencia entre una APU y una CPU con iGPU es que en una APU los núcleos de cálculo (CPU) comparten datos directamente con los núcleos gráficos (iGPU), pudiendo usar uno y otro indistintamente según el tipo de operaciones que estemos realizando en el PC en cada momento. En resumidas cuentas, una APU tiene arquitectura HSA y eso simplifica el número de pasos que se han de dar para completar cualquier instrucción."
   ]
  },
  {
   "cell_type": "code",
   "execution_count": 11,
   "metadata": {},
   "outputs": [
    {
     "data": {
      "text/html": [
       "<img src=\"https://hardzone.es/app/uploads-hardzone.es/2019/11/APU-AMD-03.jpg\"/>"
      ],
      "text/plain": [
       "<IPython.core.display.Image object>"
      ]
     },
     "execution_count": 11,
     "metadata": {},
     "output_type": "execute_result"
    }
   ],
   "source": [
    "from IPython.display import Image\n",
    "from IPython.core.display import HTML \n",
    "Image(url= \"https://hardzone.es/app/uploads-hardzone.es/2019/11/APU-AMD-03.jpg\")"
   ]
  },
  {
   "cell_type": "markdown",
   "metadata": {},
   "source": [
    "Si tenemos que hacer un resumen muy burdo y simple de qué es cada uno de estos términos, diríamos lo siguiente:\n",
    "\n",
    "CPU: es el procesador, que se encarga de las operaciones cotidianas del PC.\n",
    "    \n",
    "GPU: es el procesador gráfico, encargado de todo lo relacionado con éstos.\n",
    "    \n",
    "iGPU: es un pequeño procesador gráfico que se integra dentro del mismo die que la CPU.\n",
    "    \n",
    "APU: en sistemas AMD, es una CPU con iGPU que cuenta con arquitectura heterogénea para mejorar el rendimiento.\n",
    "# **APU y SoC son casi sinónimos**"
   ]
  },
  {
   "cell_type": "code",
   "execution_count": 12,
   "metadata": {},
   "outputs": [
    {
     "data": {
      "text/html": [
       "<img src=\"https://hardzone.es/app/uploads-hardzone.es/2020/05/SoC-APU-AMD-Carrizo.jpg\"/>"
      ],
      "text/plain": [
       "<IPython.core.display.Image object>"
      ]
     },
     "execution_count": 12,
     "metadata": {},
     "output_type": "execute_result"
    }
   ],
   "source": [
    "from IPython.display import Image\n",
    "from IPython.core.display import HTML \n",
    "Image(url= \"https://hardzone.es/app/uploads-hardzone.es/2020/05/SoC-APU-AMD-Carrizo.jpg\")"
   ]
  },
  {
   "cell_type": "markdown",
   "metadata": {},
   "source": [
    "El termino APU es el termino inventado por AMD para referirse a sus SoC, Systems on a Chip o sistemas dentro de un chip. Todos los sistemas que tengan todos los componentes del mismo excepto la RAM y el almacenamiento son SoCs, pero AMD decidió hacer una diferencia entre un SoC y una APU, que consiste simplemente en llamar SoC a aquello que dispone de un Southbridge o controlador de E/S en el chip.\n",
    "\n",
    "Al final los términos APU y SoC se han acabado utilizando indistintamente pero originalmente una APU era un SoC sin Southbridge, pero su definición original se ha visto confundida.\n",
    "\n",
    "[Este es un link a la fuente de esta información] (https://hardzone.es/tutoriales/componentes/diferencias-apu-cpu-gpu-igpu/)"
   ]
  },
  {
   "cell_type": "markdown",
   "metadata": {},
   "source": [
    "[Este es el lnk de la fuente de información](https://hardzone.es/tutoriales/componentes/diferencias-apu-cpu-gpu-igpu/)"
   ]
  },
  {
   "cell_type": "code",
   "execution_count": 21,
   "metadata": {},
   "outputs": [],
   "source": [
    "from IPython.display import YouTubeVideo"
   ]
  },
  {
   "cell_type": "code",
   "execution_count": 24,
   "metadata": {},
   "outputs": [
    {
     "data": {
      "text/html": [
       "\n",
       "        <iframe\n",
       "            width=\"400\"\n",
       "            height=\"300\"\n",
       "            src=\"https://www.youtube.com/embed/J1QDJsN3ptI&ab_channel=DiegoEfe\"\n",
       "            frameborder=\"0\"\n",
       "            allowfullscreen\n",
       "        ></iframe>\n",
       "        "
      ],
      "text/plain": [
       "<IPython.lib.display.YouTubeVideo at 0x18825a07940>"
      ]
     },
     "execution_count": 24,
     "metadata": {},
     "output_type": "execute_result"
    }
   ],
   "source": [
    "YouTubeVideo('J1QDJsN3ptI&ab_channel=DiegoEfe')"
   ]
  },
  {
   "cell_type": "code",
   "execution_count": null,
   "metadata": {},
   "outputs": [],
   "source": []
  },
  {
   "cell_type": "markdown",
   "metadata": {},
   "source": [
    "Texto enriquecido (con Markdown) en IPython Notebook"
   ]
  },
  {
   "cell_type": "code",
   "execution_count": null,
   "metadata": {},
   "outputs": [],
   "source": []
  }
 ],
 "metadata": {
  "kernelspec": {
   "display_name": "Python 3",
   "language": "python",
   "name": "python3"
  },
  "language_info": {
   "codemirror_mode": {
    "name": "ipython",
    "version": 3
   },
   "file_extension": ".py",
   "mimetype": "text/x-python",
   "name": "python",
   "nbconvert_exporter": "python",
   "pygments_lexer": "ipython3",
   "version": "3.8.5"
  }
 },
 "nbformat": 4,
 "nbformat_minor": 4
}
